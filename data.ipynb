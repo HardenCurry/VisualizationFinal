{
 "cells": [
  {
   "cell_type": "code",
   "execution_count": 4,
   "metadata": {},
   "outputs": [
    {
     "name": "stdout",
     "output_type": "stream",
     "text": [
      "Data cleaning completed. The cleaned data has been saved to 'cleaned_data.csv'.\n"
     ]
    }
   ],
   "source": [
    "import pandas as pd\n",
    "\n",
    "# Load data from CSV file\n",
    "df = pd.read_csv(r'2023_20mins.csv')\n",
    "\n",
    "# Filter out entries with Frequency less than 100\n",
    "df = df[df['Frequency'] >= 600]\n",
    "\n",
    "# Remove entries where the start and end stations are the same\n",
    "df = df[df['Station1'] != df['Station2']]\n",
    "\n",
    "# Save the cleaned data to a new CSV file\n",
    "df.to_csv('20_data.csv', index=False)\n",
    "\n",
    "print(\"Data cleaning completed. The cleaned data has been saved to 'cleaned_data.csv'.\")\n"
   ]
  },
  {
   "cell_type": "code",
   "execution_count": 5,
   "metadata": {},
   "outputs": [
    {
     "name": "stderr",
     "output_type": "stream",
     "text": [
      "c:\\Users\\chuan\\miniconda3\\lib\\site-packages\\pyproj\\crs\\crs.py:141: FutureWarning: '+init=<authority>:<code>' syntax is deprecated. '<authority>:<code>' is the preferred initialization method. When making the change, be mindful of axis order changes: https://pyproj4.github.io/pyproj/stable/gotchas.html#axis-order-changes-in-proj-6\n",
      "  in_crs_string = _prepare_from_proj_string(in_crs_string)\n",
      "c:\\Users\\chuan\\miniconda3\\lib\\site-packages\\IPython\\core\\interactiveshell.py:3377: FutureWarning: The `op` parameter is deprecated and will be removed in a future release. Please use the `predicate` parameter instead.\n",
      "  if (await self.run_code(code, result,  async_=asy)):\n",
      "c:\\Users\\chuan\\miniconda3\\lib\\site-packages\\IPython\\core\\interactiveshell.py:3377: FutureWarning: The `op` parameter is deprecated and will be removed in a future release. Please use the `predicate` parameter instead.\n",
      "  if (await self.run_code(code, result,  async_=asy)):\n"
     ]
    },
    {
     "name": "stdout",
     "output_type": "stream",
     "text": [
      "         大安區     文山區      信義區     萬華區      中正區     南港區      松山區     大同區  \\\n",
      "大安區  5867066   62082   362202   13537   456775     334   165416    5303   \n",
      "文山區   135912  638738      792     260    39767       0        3       0   \n",
      "信義區   500636    2074  2600446       1     2605   92223   143377       9   \n",
      "萬華區    10571     179        0  747563   167660       0        1   12589   \n",
      "中正區   655489   17569     1448  350546  1400212       0     9907   88048   \n",
      "南港區      608       0   187507       0        1  824391    73968       0   \n",
      "松山區   200080      16   305341      15     9034   24838  1395189    2764   \n",
      "大同區     3008       1        2   59887    45561       1     3007  899087   \n",
      "中山區   134542      12     2572    5642   122768       6   290507  276354   \n",
      "內湖區       54       0     6689       0        0   16408    21848       1   \n",
      "士林區        1       0        1      16       77       3       21   39400   \n",
      "北投區        0       0        1       0        0       0        1      28   \n",
      "\n",
      "         中山區      內湖區      士林區      北投區  \n",
      "大安區   138373      147       15        0  \n",
      "文山區       28        0        0        2  \n",
      "信義區     3843     9445        0        1  \n",
      "萬華區      862        0        4        0  \n",
      "中正區   174442        2       72        0  \n",
      "南港區       30    46049       15        1  \n",
      "松山區   213852    32578        6        1  \n",
      "大同區   238723       37    27572       77  \n",
      "中山區  2339347   114262    20940       38  \n",
      "內湖區    67182  1129748      134        0  \n",
      "士林區    21236      238  1729961    97599  \n",
      "北投區       12        0    73235  1058590  \n"
     ]
    }
   ],
   "source": [
    "import geopandas as gpd\n",
    "import pandas as pd\n",
    "from shapely.geometry import Point\n",
    "\n",
    "# 讀取台北市行政區界線資料（假設為'taipei_districts.geojson'）\n",
    "districts = gpd.read_file('taipei.geojson')\n",
    "\n",
    "# 讀取你的資料\n",
    "data = pd.read_csv('2023_AllData.csv')\n",
    "\n",
    "# 創建地理資料框\n",
    "geometry1 = [Point(xy) for xy in zip(data['Station1_lon'], data['Station1_lat'])]\n",
    "geometry2 = [Point(xy) for xy in zip(data['Station2_lon'], data['Station2_lat'])]\n",
    "gdf1 = gpd.GeoDataFrame(data, geometry=geometry1)\n",
    "gdf2 = gpd.GeoDataFrame(data, geometry=geometry2)\n",
    "\n",
    "# 設定坐標參考系統（假設為WGS 84）\n",
    "gdf1.crs = {'init': 'epsg:4326'}\n",
    "gdf2.crs = {'init': 'epsg:4326'}\n",
    "districts.crs = {'init': 'epsg:4326'}\n",
    "\n",
    "# 進行空間匹配，找出每個站點所在的行政區\n",
    "gdf1 = gpd.sjoin(gdf1, districts, how=\"left\", op='intersects')\n",
    "gdf2 = gpd.sjoin(gdf2, districts, how=\"left\", op='intersects')\n",
    "\n",
    "# 提取行政區名稱\n",
    "gdf1['Station1_district'] = gdf1['TOWNNAME']\n",
    "gdf2['Station2_district'] = gdf2['TOWNNAME']\n",
    "\n",
    "# 合併資料\n",
    "data['Station1_district'] = gdf1['Station1_district']\n",
    "data['Station2_district'] = gdf2['Station2_district']\n",
    "\n",
    "# 創建行政區矩陣\n",
    "districts_list = districts['TOWNNAME'].unique()\n",
    "matrix = pd.DataFrame(0, index=districts_list, columns=districts_list)\n",
    "\n",
    "# 計算移動次數\n",
    "for i in range(len(data)):\n",
    "    start_district = data.loc[i, 'Station1_district']\n",
    "    end_district = data.loc[i, 'Station2_district']\n",
    "    frequency = data.loc[i, 'Frequency']\n",
    "    if pd.notna(start_district) and pd.notna(end_district):\n",
    "        matrix.loc[start_district, end_district] += frequency\n",
    "\n",
    "# 顯示結果\n",
    "print(matrix)\n"
   ]
  },
  {
   "cell_type": "code",
   "execution_count": 7,
   "metadata": {},
   "outputs": [
    {
     "name": "stdout",
     "output_type": "stream",
     "text": [
      "矩陣總和:  27041297\n"
     ]
    }
   ],
   "source": [
    "matrix_sum = matrix.sum().sum()\n",
    "print(\"矩陣總和: \", matrix_sum)\n",
    "matrix.to_csv('matrix.csv')"
   ]
  }
 ],
 "metadata": {
  "kernelspec": {
   "display_name": "base",
   "language": "python",
   "name": "python3"
  },
  "language_info": {
   "codemirror_mode": {
    "name": "ipython",
    "version": 3
   },
   "file_extension": ".py",
   "mimetype": "text/x-python",
   "name": "python",
   "nbconvert_exporter": "python",
   "pygments_lexer": "ipython3",
   "version": "3.9.12"
  }
 },
 "nbformat": 4,
 "nbformat_minor": 2
}
