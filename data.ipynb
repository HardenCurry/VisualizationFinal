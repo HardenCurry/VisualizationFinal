{
 "cells": [
  {
   "cell_type": "code",
   "execution_count": 4,
   "metadata": {},
   "outputs": [
    {
     "name": "stdout",
     "output_type": "stream",
     "text": [
      "Data cleaning completed. The cleaned data has been saved to 'cleaned_data.csv'.\n"
     ]
    }
   ],
   "source": [
    "import pandas as pd\n",
    "\n",
    "# Load data from CSV file\n",
    "df = pd.read_csv(r'2023_20mins.csv')\n",
    "\n",
    "# Filter out entries with Frequency less than 100\n",
    "df = df[df['Frequency'] >= 600]\n",
    "\n",
    "# Remove entries where the start and end stations are the same\n",
    "df = df[df['Station1'] != df['Station2']]\n",
    "\n",
    "# Save the cleaned data to a new CSV file\n",
    "df.to_csv('20_data.csv', index=False)\n",
    "\n",
    "print(\"Data cleaning completed. The cleaned data has been saved to 'cleaned_data.csv'.\")\n"
   ]
  }
 ],
 "metadata": {
  "kernelspec": {
   "display_name": "base",
   "language": "python",
   "name": "python3"
  },
  "language_info": {
   "codemirror_mode": {
    "name": "ipython",
    "version": 3
   },
   "file_extension": ".py",
   "mimetype": "text/x-python",
   "name": "python",
   "nbconvert_exporter": "python",
   "pygments_lexer": "ipython3",
   "version": "3.9.12"
  }
 },
 "nbformat": 4,
 "nbformat_minor": 2
}
